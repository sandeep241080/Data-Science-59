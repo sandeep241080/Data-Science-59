{
 "cells": [
  {
   "cell_type": "code",
   "execution_count": 1,
   "id": "009d2d08",
   "metadata": {},
   "outputs": [],
   "source": [
    "###1. Simple Message: Store a message in a variable, and then print that message.\n",
    "print(\"life is beautiful\")"
   ]
  },
  {
   "cell_type": "code",
   "execution_count": 2,
   "id": "237e6111",
   "metadata": {},
   "outputs": [
    {
     "name": "stdout",
     "output_type": "stream",
     "text": [
      "Python is a simple programming language\n",
      "I am learning python\n"
     ]
    }
   ],
   "source": [
    "###2. Store a message in a variable and print that message. Then change the value of your variable to a new message and print the new message.\n",
    "a = \"Python is a simple programming language\"\n",
    "print(a)\n",
    "a = \"I am learning python\"\n",
    "print (a)"
   ]
  },
  {
   "cell_type": "code",
   "execution_count": 3,
   "id": "62b22946",
   "metadata": {},
   "outputs": [
    {
     "name": "stdout",
     "output_type": "stream",
     "text": [
      "Hello Eric, would you like to learn some Python today?\n"
     ]
    }
   ],
   "source": [
    "####3. Store a person’s name in a variable and print a message to that person. \n",
    "#####Your message should be simple, such as, “Hello Eric, would you like to learn some Python today?”\n",
    "p=\"Eric\"\n",
    "print(f'Hello {p}, would you like to learn some Python today?')"
   ]
  },
  {
   "cell_type": "code",
   "execution_count": 4,
   "id": "b08d9087",
   "metadata": {},
   "outputs": [
    {
     "name": "stdout",
     "output_type": "stream",
     "text": [
      "Swami Vivekanand - All power is within you; you can do anything and everything\n"
     ]
    }
   ],
   "source": [
    "###4. Find a quote from a famous person you admire. Print the quote and the name of its author. \n",
    "###Your output should look something like the following, including the quotation marks: \n",
    "###Albert Einstein once said, “A person who never made a mistake never tried anything new.”\n",
    "\n",
    "a = \"Swami Vivekanand\"\n",
    "b = \"All power is within you; you can do anything and everything\"\n",
    "print(a + ' - ' + b)"
   ]
  },
  {
   "cell_type": "code",
   "execution_count": 5,
   "id": "5e1ca54f",
   "metadata": {},
   "outputs": [
    {
     "name": "stdout",
     "output_type": "stream",
     "text": [
      "Swami Vivekanand - All power is within you; you can do anything and everything\n"
     ]
    }
   ],
   "source": [
    "### 5. Repeat Exercise 4, but this time store the famous person’s name in a variable called famous_person. \n",
    "###Then compose your message and store it in a new variable called message. Print your message.\n",
    "\n",
    "famous_person = \"Swami Vivekanand\"\n",
    "message = \"All power is within you; you can do anything and everything\"\n",
    "\n",
    "print(famous_person + ' - '+ message)"
   ]
  },
  {
   "cell_type": "code",
   "execution_count": 27,
   "id": "e1a1d194",
   "metadata": {},
   "outputs": [
    {
     "name": "stdout",
     "output_type": "stream",
     "text": [
      "8\n",
      "8\n",
      "8\n",
      "8.0\n"
     ]
    }
   ],
   "source": [
    "###6. Write addition, subtraction, multiplication, and division operations that each result in the number 8. \n",
    "###Be sure to enclose your operations in print statements to see the results. You should create four lines that look like this: \n",
    "###print (5 + 3) Your output should simply be four lines with the number 8 appearing once on each line.\n",
    "\n",
    "x=2\n",
    "y= 4\n",
    "print(y+y)\n",
    "print((3*y)-y)\n",
    "print(y*x)\n",
    "print((y*y)/x)"
   ]
  },
  {
   "cell_type": "code",
   "execution_count": 7,
   "id": "7d3d836d",
   "metadata": {},
   "outputs": [
    {
     "name": "stdout",
     "output_type": "stream",
     "text": [
      "My Favorite number is 24\n"
     ]
    }
   ],
   "source": [
    "## 7.Store your favourite number in a variable. \n",
    "###Then, using that variable, create a message that reveals your favourite number. Print that message\n",
    "\n",
    "a = 24\n",
    "print(f\"My Favorite number is\", a)"
   ]
  },
  {
   "cell_type": "code",
   "execution_count": 8,
   "id": "8115799b",
   "metadata": {},
   "outputs": [
    {
     "name": "stdout",
     "output_type": "stream",
     "text": [
      "Enter your name - Sandy\n",
      "Enter today's date - 11th Feb 2022\n",
      "This programme is for xyz\n"
     ]
    }
   ],
   "source": [
    "###8.Choose two of the programs you’ve written and add at least one comment to each. \n",
    "###If you don’t have anything specific to write because your programs are too simple at this point, \n",
    "###just add your name and the current date at the top of each program file. \n",
    "###Then write one sentence describing what the program does.\n",
    "\n",
    "a=input(\"Enter your name - \")\n",
    "b=input(\"Enter today's date - \")\n",
    "print(\"This programme is for xyz\")"
   ]
  },
  {
   "cell_type": "code",
   "execution_count": 21,
   "id": "2d6430fb",
   "metadata": {},
   "outputs": [
    {
     "name": "stdout",
     "output_type": "stream",
     "text": [
      "Sandy\n",
      "Sagar\n",
      "Ram\n",
      "Raj\n",
      "Ravi\n"
     ]
    }
   ],
   "source": [
    "###9. Store the names of a few of your friends in a list called names. \n",
    "###Print each person’s name by accessing each element in the list, one at a time.\n",
    "\n",
    "Names = ['Sandy', 'Sagar', 'Ram', 'Raj', 'Ravi']\n",
    "for I in Names:\n",
    "    print(I)\n"
   ]
  },
  {
   "cell_type": "code",
   "execution_count": 23,
   "id": "6c558246",
   "metadata": {},
   "outputs": [
    {
     "name": "stdout",
     "output_type": "stream",
     "text": [
      "My name is Sandy\n",
      "My name is Sagar\n",
      "My name is Ram\n",
      "My name is Raj\n",
      "My name is Ravi\n"
     ]
    }
   ],
   "source": [
    "###10. Start with the list you used in Exercise 9, but instead of just printing each person’s name, print a message to them. \n",
    "###The text of each message should be the same, but each message should be personalized with the person’s name.\n",
    "\n",
    "Names = ['Sandy', 'Sagar', 'Ram', 'Raj', 'Ravi']\n",
    "for I in Names:\n",
    "    print(\"My name is\", I)"
   ]
  },
  {
   "cell_type": "code",
   "execution_count": 24,
   "id": "017874fc",
   "metadata": {},
   "outputs": [
    {
     "name": "stdout",
     "output_type": "stream",
     "text": [
      "I love to travel by Flight\n",
      "I love to travel by Cruise\n",
      "I love to travel by Train\n",
      "I love to travel by Car\n",
      "I love to travel by Bike\n",
      "I love to travel by Cycle\n"
     ]
    }
   ],
   "source": [
    "###11. Think of your favourite mode of transportation, such as a motorcycle or a car, \n",
    "###and make a list that stores several examples. Use your list to print a series of statements about these items, \n",
    "###such as “I would like to own a Honda motorcycle.”\n",
    "\n",
    "T = ['Flight','Cruise','Train','Car','Bike', 'Cycle']\n",
    "for I in T:\n",
    "    print(\"I love to travel by\", I)"
   ]
  },
  {
   "cell_type": "code",
   "execution_count": null,
   "id": "71d38547",
   "metadata": {},
   "outputs": [],
   "source": []
  }
 ],
 "metadata": {
  "kernelspec": {
   "display_name": "Python 3 (ipykernel)",
   "language": "python",
   "name": "python3"
  },
  "language_info": {
   "codemirror_mode": {
    "name": "ipython",
    "version": 3
   },
   "file_extension": ".py",
   "mimetype": "text/x-python",
   "name": "python",
   "nbconvert_exporter": "python",
   "pygments_lexer": "ipython3",
   "version": "3.9.7"
  }
 },
 "nbformat": 4,
 "nbformat_minor": 5
}
